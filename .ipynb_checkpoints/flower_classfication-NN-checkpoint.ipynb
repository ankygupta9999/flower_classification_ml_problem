{
 "cells": [
  {
   "cell_type": "markdown",
   "metadata": {},
   "source": [
    "### <u>Problem Statement</u> <a id='top' />\n",
    "\n",
    "Attached is a dataset which shows the flower classification ML problem. The task is to predict the class of the plant based on certain features given in the excel file. The xlsx has 2 components one showing the variables data and another file showing the explanation of what each of these variables mean.\n",
    "\n",
    "<b> Dataset</b>: Plant_Tree_data.xlsx \n",
    "\n",
    "For this problem, ignore the problem metrics. Ignore the units of tree length like mm or cm. For e.g. do not think that the tree length is in mm or cm. All the measures are metric-less (unit less) and for this problem treat each column in that capacity.\n",
    "\n",
    "For the dataset, implement the Random Forest classifier using Python. [6M]\n",
    "\n",
    "For the same dataset, implement classification with the neural network using Keras in Python. [6M]\n",
    "\n",
    "The marks distribution is as follows\n",
    "\n",
    "> Import the libraries and Load the dataset and Remove/replace missing values (if any) [1M]\n",
    "> Split features and labels [0.5M]\n",
    "> Split train and test data [0.5M]\n",
    "> Implement Neural Network Classifier using Keras [2M]\n",
    "> Calculate accuracy measures [2M]\n",
    "\n",
    "\n",
    "### <u>Solution</u>:\n",
    "\n",
    "\n",
    "### EDA (Exploratory Data Analysis)\n",
    "\n",
    "> ###### - [Target Column](#target_col): Visualizing Distribution.\n",
    "> > This is to visualize the target column to see if it is not an imbalanced class.\n",
    "> ###### - [Missing Data](#missing_data): Check on features with Missing data.\n",
    "> > This step is done to check the missing data at each feature level. This is required to identify which features requrie data imputation during Pre-processing step and if any feature needs to be dropped in case majority values are missing.\n",
    "> ###### - [Univariate Analysis](#univariate): Plot the features distribution to identify skewness.\n",
    "> > This helps in visualizing the distribution of features and helps in identifying skewed features. So, accordingly they can be treated during pre-processing before applying Normalization.\n",
    "> ###### - [Bivariate Analysis](#bivariate): Plot the features against <u> Target </u> to visualize the relation.\n",
    "> > This helps in visualizing the features in respect to Target column and at times helps in seeing if any feature can be further dropped.\n",
    "> ###### - [Multicolinearity check](#multicolinearity): Identify if any features which are correlated with other features.\n",
    "> > This is again an important step which helps in identifying features which are colinear with each other and thus all but one which are colinear among themselves can be ignored while training the model. \n",
    "\n",
    "### Data Preprocessing.\n",
    "\n",
    "> ###### - [Data Imputation](#imputer): Imputing the missing values.\n",
    "> > Features which contain the missing data, their missing values were imputed so model can be trained properly.\n",
    "> ###### - [Data scaling/normalization](#scaling): Normalizing/ Scaling the data features.\n",
    "> > Here, the features which are having skewed distribution can be treated with Log scaling and once the features are treated. They can be then by passed thru standard scalar to bring all features at same level before modelling. \n",
    "\n",
    "### Select Train/Test data.\n",
    "\n",
    "> ###### - [Train-Test split](#train_test): Splitting the data into training set and testing set. Split ratio: 70 (training):30 (testing)\n",
    "> > This is important as the data needs to be seperated out in 2 parts at least. Training and Test (70:30) set where Test set is kept aside just to validate the Model's performance and cannot be given or used while modeling at all.\n",
    "\n",
    "### Training the model.\n",
    "\n",
    "> ###### - [Training Model](#modelling): Training differnt models on training set.\n",
    "> > Model (Decision tree classifier in this case) is then trained on the Training data set and is evaluated. \n",
    "> > Another model (Random Forest Classifier which uses Bagging technique) is then trained to observe if major improvements are observed.\n",
    "\n",
    "### Model Evaluation.\n",
    "\n",
    "> ###### - [Model Evaluation](#model_eval): Evaluating the performance of the model and finalizing the model.\n",
    "> > This helps in identifying which Model is performing better as well as generalized so its Accuary, precision, recall & F1 scores can be maintained on future unseen data as well.\n"
   ]
  },
  {
   "cell_type": "code",
   "execution_count": 1,
   "metadata": {},
   "outputs": [],
   "source": [
    "# importing libraries\n",
    "import pandas as pd\n",
    "import numpy as np\n",
    "\n",
    "# For Modeling, Evaluation metrics, train-test data preparation\n",
    "from sklearn.metrics import auc, confusion_matrix, plot_confusion_matrix, plot_precision_recall_curve, plot_roc_curve, accuracy_score, classification_report\n",
    "from sklearn.model_selection import train_test_split\n",
    "from sklearn.ensemble import RandomForestClassifier \n",
    "\n",
    "# For visualization\n",
    "import seaborn as sns\n",
    "import matplotlib.pyplot as plt\n",
    "%matplotlib inline\n",
    "\n",
    "# For Data imputation\n",
    "from sklearn import impute\n",
    "from sklearn.preprocessing import StandardScaler, MinMaxScaler\n",
    "\n",
    "# settings\n",
    "pd.options.display.max_columns = 250\n",
    "pd.options.display.max_rows = 250\n",
    "sns.set(style=\"whitegrid\")"
   ]
  },
  {
   "cell_type": "code",
   "execution_count": 24,
   "metadata": {},
   "outputs": [],
   "source": [
    "from tensorflow import keras\n",
    "from tensorflow.keras import Sequential\n",
    "from tensorflow.keras.layers import Dense\n",
    "from tensorflow.keras.wrappers.scikit_learn import KerasClassifier\n",
    "from sklearn.model_selection import cross_val_score"
   ]
  },
  {
   "cell_type": "code",
   "execution_count": null,
   "metadata": {},
   "outputs": [],
   "source": []
  },
  {
   "cell_type": "code",
   "execution_count": 4,
   "metadata": {},
   "outputs": [],
   "source": [
    "# Load the dataset\n",
    "raw_df = pd.read_excel(\"Plant_Tree_data.xlsx\")"
   ]
  },
  {
   "cell_type": "code",
   "execution_count": 5,
   "metadata": {},
   "outputs": [
    {
     "data": {
      "text/html": [
       "<div>\n",
       "<style scoped>\n",
       "    .dataframe tbody tr th:only-of-type {\n",
       "        vertical-align: middle;\n",
       "    }\n",
       "\n",
       "    .dataframe tbody tr th {\n",
       "        vertical-align: top;\n",
       "    }\n",
       "\n",
       "    .dataframe thead th {\n",
       "        text-align: right;\n",
       "    }\n",
       "</style>\n",
       "<table border=\"1\" class=\"dataframe\">\n",
       "  <thead>\n",
       "    <tr style=\"text-align: right;\">\n",
       "      <th></th>\n",
       "      <th>LeafLength</th>\n",
       "      <th>LeafBreadth</th>\n",
       "      <th>ErrorLeafLength</th>\n",
       "      <th>ErrorLeafBreadth</th>\n",
       "      <th>LeafCurveAngle</th>\n",
       "      <th>EdgeCurvatureAngle</th>\n",
       "      <th>ErrorLeafCurvature</th>\n",
       "      <th>TreeLength</th>\n",
       "      <th>TreeType</th>\n",
       "    </tr>\n",
       "  </thead>\n",
       "  <tbody>\n",
       "    <tr>\n",
       "      <th>0</th>\n",
       "      <td>140.562500</td>\n",
       "      <td>55.683782</td>\n",
       "      <td>-0.234571</td>\n",
       "      <td>-0.699648</td>\n",
       "      <td>3.199833</td>\n",
       "      <td>19.110426</td>\n",
       "      <td>7.975532</td>\n",
       "      <td>74.242225</td>\n",
       "      <td>0</td>\n",
       "    </tr>\n",
       "    <tr>\n",
       "      <th>1</th>\n",
       "      <td>102.507812</td>\n",
       "      <td>58.882430</td>\n",
       "      <td>0.465318</td>\n",
       "      <td>-0.515088</td>\n",
       "      <td>1.677258</td>\n",
       "      <td>14.860146</td>\n",
       "      <td>10.576487</td>\n",
       "      <td>127.393580</td>\n",
       "      <td>0</td>\n",
       "    </tr>\n",
       "    <tr>\n",
       "      <th>2</th>\n",
       "      <td>103.015625</td>\n",
       "      <td>39.341649</td>\n",
       "      <td>0.323328</td>\n",
       "      <td>1.051164</td>\n",
       "      <td>3.121237</td>\n",
       "      <td>21.744669</td>\n",
       "      <td>7.735822</td>\n",
       "      <td>63.171909</td>\n",
       "      <td>0</td>\n",
       "    </tr>\n",
       "    <tr>\n",
       "      <th>3</th>\n",
       "      <td>136.750000</td>\n",
       "      <td>57.178449</td>\n",
       "      <td>-0.068415</td>\n",
       "      <td>-0.636238</td>\n",
       "      <td>3.642977</td>\n",
       "      <td>20.959280</td>\n",
       "      <td>6.896499</td>\n",
       "      <td>53.593661</td>\n",
       "      <td>0</td>\n",
       "    </tr>\n",
       "    <tr>\n",
       "      <th>4</th>\n",
       "      <td>88.726562</td>\n",
       "      <td>40.672225</td>\n",
       "      <td>0.600866</td>\n",
       "      <td>1.123492</td>\n",
       "      <td>1.178930</td>\n",
       "      <td>11.468720</td>\n",
       "      <td>14.269573</td>\n",
       "      <td>252.567306</td>\n",
       "      <td>0</td>\n",
       "    </tr>\n",
       "  </tbody>\n",
       "</table>\n",
       "</div>"
      ],
      "text/plain": [
       "   LeafLength  LeafBreadth  ErrorLeafLength  ErrorLeafBreadth  LeafCurveAngle  \\\n",
       "0  140.562500    55.683782        -0.234571         -0.699648        3.199833   \n",
       "1  102.507812    58.882430         0.465318         -0.515088        1.677258   \n",
       "2  103.015625    39.341649         0.323328          1.051164        3.121237   \n",
       "3  136.750000    57.178449        -0.068415         -0.636238        3.642977   \n",
       "4   88.726562    40.672225         0.600866          1.123492        1.178930   \n",
       "\n",
       "   EdgeCurvatureAngle  ErrorLeafCurvature  TreeLength  TreeType  \n",
       "0           19.110426            7.975532   74.242225         0  \n",
       "1           14.860146           10.576487  127.393580         0  \n",
       "2           21.744669            7.735822   63.171909         0  \n",
       "3           20.959280            6.896499   53.593661         0  \n",
       "4           11.468720           14.269573  252.567306         0  "
      ]
     },
     "execution_count": 5,
     "metadata": {},
     "output_type": "execute_result"
    }
   ],
   "source": [
    "#Visualizing header rows\n",
    "raw_df.head()"
   ]
  },
  {
   "cell_type": "code",
   "execution_count": 10,
   "metadata": {},
   "outputs": [
    {
     "data": {
      "text/html": [
       "<div>\n",
       "<style scoped>\n",
       "    .dataframe tbody tr th:only-of-type {\n",
       "        vertical-align: middle;\n",
       "    }\n",
       "\n",
       "    .dataframe tbody tr th {\n",
       "        vertical-align: top;\n",
       "    }\n",
       "\n",
       "    .dataframe thead th {\n",
       "        text-align: right;\n",
       "    }\n",
       "</style>\n",
       "<table border=\"1\" class=\"dataframe\">\n",
       "  <thead>\n",
       "    <tr style=\"text-align: right;\">\n",
       "      <th></th>\n",
       "      <th>LeafLength</th>\n",
       "      <th>LeafBreadth</th>\n",
       "      <th>ErrorLeafLength</th>\n",
       "      <th>ErrorLeafBreadth</th>\n",
       "      <th>LeafCurveAngle</th>\n",
       "      <th>EdgeCurvatureAngle</th>\n",
       "      <th>ErrorLeafCurvature</th>\n",
       "      <th>TreeLength</th>\n",
       "      <th>TreeType</th>\n",
       "    </tr>\n",
       "  </thead>\n",
       "  <tbody>\n",
       "    <tr>\n",
       "      <th>count</th>\n",
       "      <td>17898.000000</td>\n",
       "      <td>17898.000000</td>\n",
       "      <td>17898.000000</td>\n",
       "      <td>17898.000000</td>\n",
       "      <td>17898.000000</td>\n",
       "      <td>17898.000000</td>\n",
       "      <td>17898.000000</td>\n",
       "      <td>17898.000000</td>\n",
       "      <td>17898.000000</td>\n",
       "    </tr>\n",
       "    <tr>\n",
       "      <th>mean</th>\n",
       "      <td>111.079968</td>\n",
       "      <td>46.549532</td>\n",
       "      <td>0.477857</td>\n",
       "      <td>1.770279</td>\n",
       "      <td>12.614400</td>\n",
       "      <td>26.326515</td>\n",
       "      <td>8.303556</td>\n",
       "      <td>104.857709</td>\n",
       "      <td>0.091574</td>\n",
       "    </tr>\n",
       "    <tr>\n",
       "      <th>std</th>\n",
       "      <td>25.652935</td>\n",
       "      <td>6.843189</td>\n",
       "      <td>1.064040</td>\n",
       "      <td>6.167913</td>\n",
       "      <td>29.472897</td>\n",
       "      <td>19.470572</td>\n",
       "      <td>4.506092</td>\n",
       "      <td>106.514540</td>\n",
       "      <td>0.288432</td>\n",
       "    </tr>\n",
       "    <tr>\n",
       "      <th>min</th>\n",
       "      <td>5.812500</td>\n",
       "      <td>24.772042</td>\n",
       "      <td>-1.876011</td>\n",
       "      <td>-1.791886</td>\n",
       "      <td>0.213211</td>\n",
       "      <td>7.370432</td>\n",
       "      <td>-3.139270</td>\n",
       "      <td>-1.976976</td>\n",
       "      <td>0.000000</td>\n",
       "    </tr>\n",
       "    <tr>\n",
       "      <th>25%</th>\n",
       "      <td>100.929688</td>\n",
       "      <td>42.376018</td>\n",
       "      <td>0.027098</td>\n",
       "      <td>-0.188572</td>\n",
       "      <td>1.923077</td>\n",
       "      <td>14.437332</td>\n",
       "      <td>5.781506</td>\n",
       "      <td>34.960504</td>\n",
       "      <td>0.000000</td>\n",
       "    </tr>\n",
       "    <tr>\n",
       "      <th>50%</th>\n",
       "      <td>115.078125</td>\n",
       "      <td>46.947479</td>\n",
       "      <td>0.223240</td>\n",
       "      <td>0.198710</td>\n",
       "      <td>2.801839</td>\n",
       "      <td>18.461316</td>\n",
       "      <td>8.433515</td>\n",
       "      <td>83.064556</td>\n",
       "      <td>0.000000</td>\n",
       "    </tr>\n",
       "    <tr>\n",
       "      <th>75%</th>\n",
       "      <td>127.085938</td>\n",
       "      <td>51.023202</td>\n",
       "      <td>0.473325</td>\n",
       "      <td>0.927783</td>\n",
       "      <td>5.464256</td>\n",
       "      <td>28.428104</td>\n",
       "      <td>10.702959</td>\n",
       "      <td>139.309330</td>\n",
       "      <td>0.000000</td>\n",
       "    </tr>\n",
       "    <tr>\n",
       "      <th>max</th>\n",
       "      <td>192.617188</td>\n",
       "      <td>98.778911</td>\n",
       "      <td>8.069522</td>\n",
       "      <td>68.101622</td>\n",
       "      <td>223.392141</td>\n",
       "      <td>110.642211</td>\n",
       "      <td>34.539844</td>\n",
       "      <td>1191.000837</td>\n",
       "      <td>1.000000</td>\n",
       "    </tr>\n",
       "  </tbody>\n",
       "</table>\n",
       "</div>"
      ],
      "text/plain": [
       "         LeafLength   LeafBreadth  ErrorLeafLength  ErrorLeafBreadth  \\\n",
       "count  17898.000000  17898.000000     17898.000000      17898.000000   \n",
       "mean     111.079968     46.549532         0.477857          1.770279   \n",
       "std       25.652935      6.843189         1.064040          6.167913   \n",
       "min        5.812500     24.772042        -1.876011         -1.791886   \n",
       "25%      100.929688     42.376018         0.027098         -0.188572   \n",
       "50%      115.078125     46.947479         0.223240          0.198710   \n",
       "75%      127.085938     51.023202         0.473325          0.927783   \n",
       "max      192.617188     98.778911         8.069522         68.101622   \n",
       "\n",
       "       LeafCurveAngle  EdgeCurvatureAngle  ErrorLeafCurvature    TreeLength  \\\n",
       "count    17898.000000        17898.000000        17898.000000  17898.000000   \n",
       "mean        12.614400           26.326515            8.303556    104.857709   \n",
       "std         29.472897           19.470572            4.506092    106.514540   \n",
       "min          0.213211            7.370432           -3.139270     -1.976976   \n",
       "25%          1.923077           14.437332            5.781506     34.960504   \n",
       "50%          2.801839           18.461316            8.433515     83.064556   \n",
       "75%          5.464256           28.428104           10.702959    139.309330   \n",
       "max        223.392141          110.642211           34.539844   1191.000837   \n",
       "\n",
       "           TreeType  \n",
       "count  17898.000000  \n",
       "mean       0.091574  \n",
       "std        0.288432  \n",
       "min        0.000000  \n",
       "25%        0.000000  \n",
       "50%        0.000000  \n",
       "75%        0.000000  \n",
       "max        1.000000  "
      ]
     },
     "execution_count": 10,
     "metadata": {},
     "output_type": "execute_result"
    }
   ],
   "source": [
    "raw_df.describe()"
   ]
  },
  {
   "cell_type": "code",
   "execution_count": 11,
   "metadata": {},
   "outputs": [
    {
     "name": "stdout",
     "output_type": "stream",
     "text": [
      "<class 'pandas.core.frame.DataFrame'>\n",
      "RangeIndex: 17898 entries, 0 to 17897\n",
      "Data columns (total 9 columns):\n",
      " #   Column              Non-Null Count  Dtype  \n",
      "---  ------              --------------  -----  \n",
      " 0   LeafLength          17898 non-null  float64\n",
      " 1   LeafBreadth         17898 non-null  float64\n",
      " 2   ErrorLeafLength     17898 non-null  float64\n",
      " 3   ErrorLeafBreadth    17898 non-null  float64\n",
      " 4   LeafCurveAngle      17898 non-null  float64\n",
      " 5   EdgeCurvatureAngle  17898 non-null  float64\n",
      " 6   ErrorLeafCurvature  17898 non-null  float64\n",
      " 7   TreeLength          17898 non-null  float64\n",
      " 8   TreeType            17898 non-null  int64  \n",
      "dtypes: float64(8), int64(1)\n",
      "memory usage: 1.2 MB\n"
     ]
    }
   ],
   "source": [
    "# Looking at columns counts, nulls, Dtypes and Index range\n",
    "raw_df.info()"
   ]
  },
  {
   "cell_type": "code",
   "execution_count": 12,
   "metadata": {},
   "outputs": [],
   "source": [
    "# Creating a copy of Raw DF for EDA\n",
    "df_eda = raw_df.copy()"
   ]
  },
  {
   "cell_type": "markdown",
   "metadata": {},
   "source": [
    "### EDA (Exploratory Data Analysis)"
   ]
  },
  {
   "cell_type": "markdown",
   "metadata": {},
   "source": [
    "#### 1. <u>Target column</u>: Visualizing distribution <a id='target_col'/>"
   ]
  },
  {
   "cell_type": "code",
   "execution_count": 13,
   "metadata": {},
   "outputs": [
    {
     "name": "stdout",
     "output_type": "stream",
     "text": [
      "   TreeType  Counts    pct\n",
      "0         0   16259  90.84\n",
      "1         1    1639   9.16\n",
      " \n"
     ]
    },
    {
     "data": {
      "image/png": "[encoded data removed]",
      "text/plain": [
       "<Figure size 360x360 with 1 Axes>"
      ]
     },
     "metadata": {},
     "output_type": "display_data"
    }
   ],
   "source": [
    "sns.set(style=\"darkgrid\")\n",
    "targetcoldf = raw_df.groupby('TreeType').agg({'TreeType':['count']}).reset_index()\n",
    "targetcoldf.columns = ['TreeType','Counts']\n",
    "targetcoldf['pct'] = round(targetcoldf['Counts']/(len(raw_df))*100,2)\n",
    "palette = ['olive','mediumvioletred']\n",
    "print (targetcoldf.head())\n",
    "print (\" \")\n",
    "fig, ax = plt.subplots(figsize=(5,5))\n",
    "fig = sns.barplot(y='Counts', x='TreeType',data=targetcoldf, ci = None, orient='v', palette=palette)\n",
    "\n",
    "# y_lab = ['Negative', 'Positive']\n",
    "# ax.set_xticklabels(labels=y_lab, ha='right')\n",
    "\n",
    "for i, v in enumerate(targetcoldf['pct']):\n",
    "    ax.text(i-0.1, v*180, str(v)+'%', color='black', fontweight='bold')\n",
    "\n",
    "plt.title('Flower Dataset Target column stats',size = 14, weight = 'bold')\n",
    "plt.ylabel('Counts')\n",
    "plt.xlabel('TreeType');\n"
   ]
  },
  {
   "cell_type": "markdown",
   "metadata": {},
   "source": [
    "##### <u>Observation</u>:\n",
    "> The Target column distribution looks imbalanced. In case, the model isn't able to capture minority class, then can look for Oversampling/Undersampling techiniques."
   ]
  },
  {
   "cell_type": "markdown",
   "metadata": {},
   "source": [
    "#### 2. <u>Missing Data</u>: Check on features with Missing data. <a id='missing_data' />"
   ]
  },
  {
   "cell_type": "code",
   "execution_count": 14,
   "metadata": {},
   "outputs": [],
   "source": [
    "def get_missing_data_stats(df):\n",
    "    missing_data = df.isin([-99, -999, np.nan]).sum()\n",
    "    per_missing_data = round(missing_data/len(df)*100,2).sort_values(ascending=False)\n",
    "    if (len(per_missing_data[per_missing_data > 0]) > 0):\n",
    "        print ('Below are columns with correspondind missing data %s:')\n",
    "        print ('-----------------------------------------------------')\n",
    "        print ('Column ~ Missing %')\n",
    "        print ('-------------------')\n",
    "        print (per_missing_data[per_missing_data > 0])\n",
    "        print ('-------------------')\n",
    "\n",
    "        plt.subplots(figsize=(9,9))\n",
    "        sns.heatmap(df.isin([-99, -999, np.nan]))\n",
    "        plt.show()\n",
    "    else:\n",
    "        print ('------------------------------')\n",
    "        print ('No column has missing data :-)')\n",
    "        print ('------------------------------')"
   ]
  },
  {
   "cell_type": "code",
   "execution_count": 15,
   "metadata": {},
   "outputs": [
    {
     "name": "stdout",
     "output_type": "stream",
     "text": [
      "------------------------------\n",
      "No column has missing data :-)\n",
      "------------------------------\n"
     ]
    }
   ],
   "source": [
    "get_missing_data_stats(raw_df)"
   ]
  },
  {
   "cell_type": "markdown",
   "metadata": {},
   "source": [
    "##### <u><b>Observation</b></u> :\n",
    "> No missing data in the dataset."
   ]
  },
  {
   "cell_type": "markdown",
   "metadata": {},
   "source": [
    "#### Univariate Analysis - Plot the features distribution to identify skewness.<a id='univariate' />"
   ]
  },
  {
   "cell_type": "markdown",
   "metadata": {},
   "source": [
    "### Split features and labels [0.5M]"
   ]
  },
  {
   "cell_type": "code",
   "execution_count": 16,
   "metadata": {},
   "outputs": [],
   "source": [
    "# Copy raw_df to features_df and drop Target column to keep only features column in it\n",
    "features_df = raw_df.copy()\n",
    "features_df.drop(axis='1', columns='TreeType', inplace=True)\n",
    "\n",
    "# Copy only target column to labels df\n",
    "labels_df = raw_df['TreeType'].copy()"
   ]
  },
  {
   "cell_type": "markdown",
   "metadata": {},
   "source": [
    "### Split train and test data [0.5M]"
   ]
  },
  {
   "cell_type": "markdown",
   "metadata": {},
   "source": [
    "### Train/Test data split: <a id='train_test' />\n",
    "> - Split data in train and test set"
   ]
  },
  {
   "cell_type": "code",
   "execution_count": 17,
   "metadata": {},
   "outputs": [],
   "source": [
    "from sklearn.model_selection import train_test_split, validation_curve\n",
    "\n",
    "X_train, X_test, y_train, y_test = train_test_split(features_df, labels_df, test_size=0.3, random_state=41)"
   ]
  },
  {
   "cell_type": "markdown",
   "metadata": {},
   "source": [
    "### Modelling <a id='modelling' />\n",
    "\n",
    "> - Implement Neural Network Classifier using Keras [2M]"
   ]
  },
  {
   "cell_type": "code",
   "execution_count": 18,
   "metadata": {},
   "outputs": [
    {
     "name": "stdout",
     "output_type": "stream",
     "text": [
      "=================================\n",
      "Total Data Shape:  (17898, 9)\n",
      "=================================\n",
      "Train Data Shape:  (12528, 8)\n",
      "Test Data Shape:   (5370, 8)\n",
      "=================================\n"
     ]
    }
   ],
   "source": [
    "print ('=================================')\n",
    "print ('Total Data Shape: ', raw_df.shape)\n",
    "print ('=================================')\n",
    "print ('Train Data Shape: ', X_train.shape)\n",
    "print ('Test Data Shape:  ', X_test.shape)\n",
    "print ('=================================')"
   ]
  },
  {
   "cell_type": "code",
   "execution_count": 33,
   "metadata": {},
   "outputs": [],
   "source": [
    "# Create NeuralNetwork Model using Keras\n",
    "\n",
    "# create model\n",
    "model = Sequential()\n",
    "model.add(Dense(32, input_dim=8, activation='relu'))\n",
    "model.add(Dense(1, activation='sigmoid'))\n",
    "\n",
    "# Compile model\n",
    "model.compile(loss='binary_crossentropy', optimizer='adam', metrics=['accuracy'])\n"
   ]
  },
  {
   "cell_type": "code",
   "execution_count": 34,
   "metadata": {},
   "outputs": [
    {
     "name": "stdout",
     "output_type": "stream",
     "text": [
      "Epoch 1/11\n",
      "392/392 - 0s - loss: 1.0037 - accuracy: 0.9104 - val_loss: 0.1449 - val_accuracy: 0.9670\n",
      "Epoch 2/11\n",
      "392/392 - 0s - loss: 0.1191 - accuracy: 0.9733 - val_loss: 0.1092 - val_accuracy: 0.9700\n",
      "Epoch 3/11\n",
      "392/392 - 0s - loss: 0.1008 - accuracy: 0.9755 - val_loss: 0.0991 - val_accuracy: 0.9724\n",
      "Epoch 4/11\n",
      "392/392 - 0s - loss: 0.0940 - accuracy: 0.9755 - val_loss: 0.0979 - val_accuracy: 0.9724\n",
      "Epoch 5/11\n",
      "392/392 - 0s - loss: 0.0916 - accuracy: 0.9753 - val_loss: 0.0951 - val_accuracy: 0.9732\n",
      "Epoch 6/11\n",
      "392/392 - 0s - loss: 0.0894 - accuracy: 0.9759 - val_loss: 0.1023 - val_accuracy: 0.9732\n",
      "Epoch 7/11\n",
      "392/392 - 0s - loss: 0.0906 - accuracy: 0.9755 - val_loss: 0.0965 - val_accuracy: 0.9739\n",
      "Epoch 8/11\n",
      "392/392 - 0s - loss: 0.0885 - accuracy: 0.9757 - val_loss: 0.0961 - val_accuracy: 0.9723\n",
      "Epoch 9/11\n",
      "392/392 - 0s - loss: 0.0861 - accuracy: 0.9758 - val_loss: 0.1132 - val_accuracy: 0.9724\n",
      "Epoch 10/11\n",
      "392/392 - 0s - loss: 0.0880 - accuracy: 0.9755 - val_loss: 0.1007 - val_accuracy: 0.9730\n",
      "Epoch 11/11\n",
      "392/392 - 0s - loss: 0.0862 - accuracy: 0.9761 - val_loss: 0.0904 - val_accuracy: 0.9736\n"
     ]
    }
   ],
   "source": [
    "# fit the model\n",
    "nn_model = model.fit(X_train, y_train, epochs=11, validation_data=(X_test, y_test),verbose=2 )"
   ]
  },
  {
   "cell_type": "markdown",
   "metadata": {},
   "source": [
    "### Model Evaluation:\n",
    "> - Check Accuarcy, loss, validation Accurary, validation loss\n",
    "> - Visualizing model structure"
   ]
  },
  {
   "cell_type": "code",
   "execution_count": 35,
   "metadata": {},
   "outputs": [
    {
     "data": {
      "image/png": "[encoded data removed]",
      "text/plain": [
       "<Figure size 432x288 with 1 Axes>"
      ]
     },
     "metadata": {},
     "output_type": "display_data"
    },
    {
     "data": {
      "text/plain": [
       "<Figure size 432x288 with 0 Axes>"
      ]
     },
     "metadata": {},
     "output_type": "display_data"
    },
    {
     "data": {
      "image/png": "[encoded data removed]",
      "text/plain": [
       "<Figure size 432x288 with 1 Axes>"
      ]
     },
     "metadata": {},
     "output_type": "display_data"
    },
    {
     "data": {
      "text/plain": [
       "<Figure size 432x288 with 0 Axes>"
      ]
     },
     "metadata": {},
     "output_type": "display_data"
    }
   ],
   "source": [
    "## Plotting the training and validation accuracy & losses...\n",
    "\n",
    "import matplotlib.image  as mpimg\n",
    "import matplotlib.pyplot as plt\n",
    "\n",
    "#-----------------------------------------------------------\n",
    "# Retrieve a list of list results on training and test data\n",
    "# sets for each training epoch\n",
    "#-----------------------------------------------------------\n",
    "acc=nn_model.history['accuracy']\n",
    "val_acc=nn_model.history['val_accuracy']\n",
    "loss=nn_model.history['loss']\n",
    "val_loss=nn_model.history['val_loss']\n",
    "\n",
    "epochs=range(len(acc)) # Get number of epochs\n",
    "\n",
    "#------------------------------------------------\n",
    "# Plot training and validation accuracy per epoch\n",
    "#------------------------------------------------\n",
    "plt.plot(epochs, acc, 'r')\n",
    "plt.plot(epochs, val_acc, 'b')\n",
    "plt.title('Training and validation accuracy')\n",
    "plt.xlabel(\"Epochs\")\n",
    "plt.ylabel(\"Accuracy\")\n",
    "plt.legend([\"Accuracy\", \"Validation Accuracy\"])\n",
    "\n",
    "plt.figure()\n",
    "plt.show()\n",
    "#------------------------------------------------\n",
    "# Plot training and validation loss per epoch\n",
    "#------------------------------------------------\n",
    "plt.plot(epochs, loss, 'r')\n",
    "plt.plot(epochs, val_loss, 'b')\n",
    "plt.title('Training and validation loss')\n",
    "plt.xlabel(\"Epochs\")\n",
    "plt.ylabel(\"Loss\")\n",
    "plt.legend([\"Loss\", \"Validation Loss\"])\n",
    "\n",
    "plt.figure()\n",
    "plt.show()"
   ]
  },
  {
   "cell_type": "code",
   "execution_count": null,
   "metadata": {},
   "outputs": [],
   "source": []
  }
 ],
 "metadata": {
  "kernelspec": {
   "display_name": "Python 3",
   "language": "python",
   "name": "python3"
  },
  "language_info": {
   "codemirror_mode": {
    "name": "ipython",
    "version": 3
   },
   "file_extension": ".py",
   "mimetype": "text/x-python",
   "name": "python",
   "nbconvert_exporter": "python",
   "pygments_lexer": "ipython3",
   "version": "3.8.3"
  }
 },
 "nbformat": 4,
 "nbformat_minor": 4
}
